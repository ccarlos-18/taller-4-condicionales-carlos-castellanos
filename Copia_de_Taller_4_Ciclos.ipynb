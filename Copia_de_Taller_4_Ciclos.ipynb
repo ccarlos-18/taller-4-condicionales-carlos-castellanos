{
  "cells": [
    {
      "cell_type": "markdown",
      "metadata": {
        "id": "view-in-github",
        "colab_type": "text"
      },
      "source": [
        "<a href=\"https://colab.research.google.com/github/ccarlos-18/taller-4-condicionales-carlos-castellanos/blob/main/Copia_de_Taller_4_Ciclos.ipynb\" target=\"_parent\"><img src=\"https://colab.research.google.com/assets/colab-badge.svg\" alt=\"Open In Colab\"/></a>"
      ]
    },
    {
      "cell_type": "markdown",
      "id": "66beb5a1",
      "metadata": {
        "id": "66beb5a1"
      },
      "source": [
        "# Fundamentos de Programación para Ingeniería Mecánica\n",
        "## UPB Montería - 202310\n",
        "### Taller 4: Ciclos\n",
        "- Docente: Miguel Ortiz (miguel.ortizp@upb.edu.co)"
      ]
    },
    {
      "cell_type": "markdown",
      "id": "b4381f55",
      "metadata": {
        "id": "b4381f55"
      },
      "source": [
        "Datos del Estudiante:\n",
        "- Nombre:carlos arturo castellanos\n",
        "- ID:000525292\n",
        "- email:carlos.castellanosg@upb.edu.co"
      ]
    },
    {
      "cell_type": "markdown",
      "id": "433f35a0",
      "metadata": {
        "id": "433f35a0"
      },
      "source": [
        "Resuelva los siguientes ejercicios utilizando estructuras cíclicas y condicionales."
      ]
    },
    {
      "cell_type": "markdown",
      "id": "aead929b",
      "metadata": {
        "id": "aead929b"
      },
      "source": [
        "### Problema 1: Suma de Elementos (30xp)\n",
        "\n",
        "Indique cuál de los dos números ingresados por el usuario tiene una suma de dígitos mayor y la diferencia de estas sumas. Si las sumas de los dígitos son iguales, infórmelo al usuario. \n",
        "\n",
        "**Ejemplo:**\n",
        "\n",
        "```\n",
        "Ingrese el primer número: 23672646\n",
        "Ingrese el segundo número: 12653686\n",
        "La suma de los elementos de la lista 2 es mayor que la suma de los elementos de la lista 1 en 1 unidades.\n",
        "```\n",
        "\n",
        "**Recomendación:** pruebe su algoritmo con listas de prueba:\n",
        "- `lst_1`: lista que representa el primer número. Por ejemplo: dígitos del número de su documento de identidad\n",
        "- `lst_2`: lista que representa el segundo número. Por ejemplo: dígitos del número de su id\n",
        "\n",
        "**Nota:** para leer un número ingresado por el usuario y convertirlo en lista puede utilizar las siguientes instrucciones:\n",
        "\n",
        "```python\n",
        "num = input('Número: ')\n",
        "lst = [int(x) for x in num]\n",
        "```"
      ]
    },
    {
      "cell_type": "code",
      "source": [
        "num1 = input(\"Ingrese el primer número: \")\n",
        "num2 = input(\"Ingrese el segundo número: \")\n",
        "\n",
        "lst1 = [int(x) for x in num1]\n",
        "lst2 = [int(x) for x in num2]\n",
        "\n",
        "sum1 = sum(lst1)\n",
        "sum2 = sum(lst2)\n",
        "\n",
        "diff = abs(sum1 - sum2)\n",
        "\n",
        "if sum1 == sum2:\n",
        "  print(\"Las sumas de los dígitos son iguales.\")\n",
        "else:\n",
        "  if sum1 > sum2:\n",
        "    print(\"La suma de los elementos de la lista 1 es mayor que la suma de los elementos de la lista 2 en\", diff, \"unidades.\")\n",
        "  else:\n",
        "    print(\"La suma de los elementos de la lista 2 es mayor que la suma de los elementos de la lista 1 en\", diff, \"unidades.\")\n"
      ],
      "metadata": {
        "colab": {
          "base_uri": "https://localhost:8080/"
        },
        "id": "Kly8kcErL2Ib",
        "outputId": "88e70533-ca91-467c-e629-c92a1a9c7017"
      },
      "execution_count": null,
      "outputs": [
        {
          "output_type": "stream",
          "name": "stdout",
          "text": [
            "Ingrese el primer número: 4\n",
            "Ingrese el segundo número: 2\n",
            "La suma de los elementos de la lista 1 es mayor que la suma de los elementos de la lista 2 en 2 unidades.\n"
          ]
        }
      ],
      "id": "Kly8kcErL2Ib"
    },
    {
      "cell_type": "markdown",
      "id": "986a4945",
      "metadata": {
        "id": "986a4945"
      },
      "source": [
        "### Problema 2: Suma Objetivo (50xp)\n",
        "\n",
        "Indique si la suma de los dígitos de un número de verificación alcanza un valor objetivo. Si obtiene el valor objetivo antes de finalizar el recorrido por todos los dígitos del número, indique la iteración en la que se obtuvo este valor. Tenga en cuenta que tanto el valor objetivo como el número de verificación son ingresados por el usuario. En cualquiera de los casos, muestre el resultado obtenido de la suma de los dígitos.\n",
        "\n",
        "**Ejemplo:**\n",
        "```\n",
        "Ingrese número de suma objetivo: 15\n",
        "Ingrese número para validar suma de dígitos: 1234562\n",
        "Suma obtenida en iteración 5 de 7\n",
        "Resultado obtenido: 15\n",
        "Alcanzó el valor objetivo.\n",
        "```\n",
        "\n",
        "**Recomendación:** pruebe su algoritmo con números y listas de prueba:\n",
        "- `n_obj`: valor objetivo\n",
        "- `lst`: lista que representa el número de verificación. Por ejemplo: dígitos del número de su id\n",
        "\n",
        "**Nota:** para leer un número ingresado por el usuario y convertirlo en lista puede utilizar las siguientes instrucciones:\n",
        "\n",
        "```python\n",
        "num = input('Número: ')\n",
        "lst = [int(x) for x in num]\n",
        "```"
      ]
    },
    {
      "cell_type": "code",
      "source": [
        "n_obj = int(input('Ingrese número de suma objetivo: '))\n",
        "num = input('Ingrese número para validar suma de dígitos: ')\n",
        "lst = [int(x) for x in num]\n",
        "\n",
        "suma = 0\n",
        "iteracion = 1\n",
        "\n",
        "for i, digito in enumerate(lst):\n",
        "    suma += digito\n",
        "    if suma == n_obj:\n",
        "        print(f\"Suma obtenida en iteración {iteracion} de {len(lst)}\")\n",
        "        print(f\"Resultado obtenido: {suma}\")\n",
        "        print(\"Alcanzó el valor objetivo.\")\n",
        "        break\n",
        "    elif suma > n_obj:\n",
        "        print(f\"Suma obtenida en iteración {iteracion} de {len(lst)}\")\n",
        "        print(f\"Resultado obtenido: {suma}\")\n",
        "        print(\"La suma superó el valor objetivo.\")\n",
        "        break\n",
        "    iteracion += 1\n",
        "\n",
        "if suma < n_obj:\n",
        "    print(f\"Resultado obtenido: {suma}\")\n",
        "    print(\"No se alcanzó el valor objetivo.\")\n"
      ],
      "metadata": {
        "id": "5BSAt3jphZqm"
      },
      "execution_count": null,
      "outputs": [],
      "id": "5BSAt3jphZqm"
    },
    {
      "cell_type": "markdown",
      "id": "0b532b9b",
      "metadata": {
        "id": "0b532b9b"
      },
      "source": [
        "### Problema 3: Dígito Mayor (40xp)\n",
        "\n",
        "Indique el dígito de mayor valor y su posición en un número ingresado por el usuario. En caso de que el dígito mayor se repita, se debe retornar el índice del primero de ellos que fue encontrado. \n",
        "\n",
        "**Ejemplo:**\n",
        "\n",
        "```\n",
        "Ingrese número: 123753569054\n",
        "El dígito mayor de la lista es 9\n",
        "El número se encontró en la posición 8\n",
        "```\n",
        "\n",
        "**Recomendación:** pruebe su algoritmo con listas de prueba:\n",
        "- `lst`: lista que representa el número a evaluar. Por ejemplo: dígitos del número de su documento de identidad\n",
        "\n",
        "**Nota:** para leer un número ingresado por el usuario y convertirlo en lista puede utilizar las siguientes instrucciones:\n",
        "\n",
        "```python\n",
        "num = input('Número: ')\n",
        "lst = [int(x) for x in num]\n",
        "```"
      ]
    },
    {
      "cell_type": "code",
      "execution_count": null,
      "id": "9159f388",
      "metadata": {
        "scrolled": true,
        "id": "9159f388"
      },
      "outputs": [],
      "source": [
        "num = input('Ingrese número: ')\n",
        "lst = [int(x) for x in num]\n",
        "\n",
        "mayor = lst[0]\n",
        "posicion = 0\n",
        "\n",
        "for i in range(1, len(lst)):\n",
        "    if lst[i] > mayor:\n",
        "        mayor = lst[i]\n",
        "        posicion = i\n",
        "\n",
        "print(f\"El dígito mayor de la lista es {mayor}\")\n",
        "print(f\"El número se encontró en la posición {posicion}\")\n"
      ]
    },
    {
      "cell_type": "markdown",
      "id": "03af9108",
      "metadata": {
        "id": "03af9108"
      },
      "source": [
        "### Problema 4: Valores que coinciden (50xp)\n",
        "\n",
        "Indique las posiciones (índices) en los cuales se encuentran los mismos valores de los dígitos en dos números ingresados por el usuario. El algoritmo debe verificar que los números tengan la misma longitud (igual número de dígitos). Si ninguno de los dígitos de los números coincide, también debe informarlo al usuario. \n",
        "\n",
        "**Ejemplo:**\n",
        "\n",
        "```\n",
        "Ingrese el primer número: 124646272\n",
        "Ingrese el segundo número: 354849136\n",
        "Los números tienen 2 dígitos(s) en común en la(s) posición(es): [2, 4]\n",
        "```\n",
        "\n",
        "**Recomendación:** pruebe su algoritmo con listas de prueba:\n",
        "- `lst_1`: lista que representa el primer número. \n",
        "- `lst_2`: lista que representa el segundo número. \n",
        "\n",
        "**Nota:** para leer un número ingresado por el usuario y convertirlo en lista puede utilizar las siguientes instrucciones:\n",
        "\n",
        "```python\n",
        "num = input('Número: ')\n",
        "lst = [int(x) for x in num]\n",
        "```"
      ]
    },
    {
      "cell_type": "code",
      "execution_count": null,
      "id": "85469377",
      "metadata": {
        "id": "85469377"
      },
      "outputs": [],
      "source": [
        "num1 = input('Ingrese el primer número: ')\n",
        "lst1 = [int(x) for x in num1]\n",
        "\n",
        "num2 = input('Ingrese el segundo número: ')\n",
        "lst2 = [int(x) for x in num2]\n",
        "\n",
        "if len(lst1) != len(lst2):\n",
        "    print(\"Error: los números no tienen la misma longitud.\")\n",
        "else:\n",
        "    posiciones = []\n",
        "\n",
        "    for i in range(len(lst1)):\n",
        "        if lst1[i] in lst2:\n",
        "            posiciones.append(i)\n",
        "\n",
        "    if len(posiciones) == 0:\n",
        "        print(\"Los números no tienen dígitos en común.\")\n",
        "    else:\n",
        "        print(f\"Los números tienen {len(posiciones)} dígitos en común en la(s) posición(es): {posiciones}\")\n"
      ]
    },
    {
      "cell_type": "code",
      "execution_count": null,
      "id": "fdf35177",
      "metadata": {
        "id": "fdf35177"
      },
      "outputs": [],
      "source": []
    }
  ],
  "metadata": {
    "kernelspec": {
      "display_name": "Python 3 (ipykernel)",
      "language": "python",
      "name": "python3"
    },
    "language_info": {
      "codemirror_mode": {
        "name": "ipython",
        "version": 3
      },
      "file_extension": ".py",
      "mimetype": "text/x-python",
      "name": "python",
      "nbconvert_exporter": "python",
      "pygments_lexer": "ipython3",
      "version": "3.10.6"
    },
    "colab": {
      "provenance": [],
      "include_colab_link": true
    }
  },
  "nbformat": 4,
  "nbformat_minor": 5
}